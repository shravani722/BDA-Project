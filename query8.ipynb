{
 "cells": [
  {
   "cell_type": "code",
   "execution_count": 21,
   "id": "5e7f89ac",
   "metadata": {},
   "outputs": [],
   "source": [
    "from pyspark.sql import SparkSession\n",
    "from pyspark.sql.functions import col, split, explode, count, row_number\n",
    "from pyspark.sql.window import Window"
   ]
  },
  {
   "cell_type": "code",
   "execution_count": 22,
   "id": "6ca32076",
   "metadata": {},
   "outputs": [],
   "source": [
    "spark = SparkSession \\\n",
    "    .builder \\\n",
    "    .appName(\"Databases II\") \\\n",
    "    .getOrCreate()"
   ]
  },
  {
   "cell_type": "code",
   "execution_count": 23,
   "id": "8b6e242e",
   "metadata": {},
   "outputs": [],
   "source": [
    "movie = (spark.read\n",
    "      .format(\"csv\")\n",
    "      .option('header', 'true')\n",
    "      .option(\"delimiter\", \",\")\n",
    "      .option(\"inferSchema\", \"true\")\n",
    "      .load(\"movie.csv\")\n",
    "     )"
   ]
  },
  {
   "cell_type": "code",
   "execution_count": 24,
   "id": "b3a2d7fc",
   "metadata": {},
   "outputs": [],
   "source": [
    "rating = (spark.read\n",
    "      .format(\"csv\")\n",
    "      .option('header', 'true')\n",
    "      .option(\"delimiter\", \",\")\n",
    "      .option(\"inferSchema\", \"true\")\n",
    "      .load(\"rating.csv\")\n",
    "     )"
   ]
  },
  {
   "cell_type": "code",
   "execution_count": 25,
   "id": "1a575a6c",
   "metadata": {},
   "outputs": [],
   "source": [
    "# because some movies have more than one genres listed,\n",
    "# we split the column 'genres' with the '|' operator so we can process on each genre separately\n",
    "# and then use explode so that every distinct genre will be in their own row\n",
    "movie = movie.withColumn(\"genres\", explode(split(\"genres\", \"[|]\")))"
   ]
  },
  {
   "cell_type": "code",
   "execution_count": 26,
   "id": "7318de3f",
   "metadata": {},
   "outputs": [],
   "source": [
    "# execute inner join between 'movie' and 'rating' dataframes\n",
    "joined = movie.join(rating, [\"movieId\"], 'inner')"
   ]
  },
  {
   "cell_type": "code",
   "execution_count": 27,
   "id": "21afa43b",
   "metadata": {},
   "outputs": [],
   "source": [
    "# create new dataframe 'top_movie_genre' with the columns of dataframe 'joined'\n",
    "# grouped by the columns 'title' and 'genres'\n",
    "# and count the number of ratings for each movie of each genre\n",
    "top_movie_genre = joined.select('*').groupby(joined[\"title\"], joined[\"genres\"]).agg(count('rating').alias('total_ratings'))"
   ]
  },
  {
   "cell_type": "code",
   "execution_count": 28,
   "id": "91a44f7d",
   "metadata": {},
   "outputs": [],
   "source": [
    "# create a window partition over the 'genres' column\n",
    "window = Window.partitionBy(top_movie_genre[\"genres\"]).orderBy(top_movie_genre[\"total_ratings\"].desc())"
   ]
  },
  {
   "cell_type": "code",
   "execution_count": 29,
   "id": "2d7f77be",
   "metadata": {},
   "outputs": [],
   "source": [
    "# give the sequential row number 1, to the result of each window partition.\n",
    "# In that way, we find the rank 1 movie of each genre with the larger number of ratings\n",
    "top = top_movie_genre.select('*', row_number().over(window).alias('rank')).filter(col('rank') <= 1)"
   ]
  },
  {
   "cell_type": "code",
   "execution_count": 30,
   "id": "203f4e05",
   "metadata": {},
   "outputs": [
    {
     "name": "stdout",
     "output_type": "stream",
     "text": [
      "+------------------+--------------------+-------------+\n",
      "|            genres|               title|total_ratings|\n",
      "+------------------+--------------------+-------------+\n",
      "|(no genres listed)|Doctor Who: The T...|           36|\n",
      "|            Action|Jurassic Park (1993)|        59715|\n",
      "|         Adventure|Jurassic Park (1993)|        59715|\n",
      "|         Animation|    Toy Story (1995)|        49695|\n",
      "|          Children|    Toy Story (1995)|        49695|\n",
      "|            Comedy| Pulp Fiction (1994)|        67310|\n",
      "|             Crime| Pulp Fiction (1994)|        67310|\n",
      "|       Documentary|Bowling for Colum...|        12280|\n",
      "|             Drama| Pulp Fiction (1994)|        67310|\n",
      "|           Fantasy|    Toy Story (1995)|        49695|\n",
      "|         Film-Noir|L.A. Confidential...|        26836|\n",
      "|            Horror|Silence of the La...|        63299|\n",
      "|              IMAX|    Apollo 13 (1995)|        47777|\n",
      "|           Musical|      Aladdin (1992)|        41842|\n",
      "|           Mystery|Usual Suspects, T...|        47006|\n",
      "|           Romance| Forrest Gump (1994)|        66172|\n",
      "|            Sci-Fi|Jurassic Park (1993)|        59715|\n",
      "|          Thriller| Pulp Fiction (1994)|        67310|\n",
      "|               War| Forrest Gump (1994)|        66172|\n",
      "|           Western|Dances with Wolve...|        44208|\n",
      "+------------------+--------------------+-------------+\n",
      "\n"
     ]
    }
   ],
   "source": [
    "# show the results ordered by alphabetical order of column 'genres'\n",
    "query8 = top.select(top[\"genres\"], top[\"title\"], top[\"total_ratings\"]).orderBy(top[\"genres\"].asc()).show()"
   ]
  },
  {
   "cell_type": "code",
   "execution_count": 31,
   "id": "e95409e9",
   "metadata": {},
   "outputs": [],
   "source": [
    "spark.stop()"
   ]
  },
  {
   "cell_type": "code",
   "execution_count": null,
   "id": "de046e8b",
   "metadata": {},
   "outputs": [],
   "source": []
  }
 ],
 "metadata": {
  "kernelspec": {
   "display_name": "Python 3",
   "language": "python",
   "name": "python3"
  },
  "language_info": {
   "codemirror_mode": {
    "name": "ipython",
    "version": 3
   },
   "file_extension": ".py",
   "mimetype": "text/x-python",
   "name": "python",
   "nbconvert_exporter": "python",
   "pygments_lexer": "ipython3",
   "version": "3.8.5"
  }
 },
 "nbformat": 4,
 "nbformat_minor": 5
}
