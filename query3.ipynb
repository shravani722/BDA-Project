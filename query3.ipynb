{
 "cells": [
  {
   "cell_type": "code",
   "execution_count": 34,
   "id": "bb169aee",
   "metadata": {},
   "outputs": [],
   "source": [
    "from pyspark.sql import SparkSession\n",
    "from pyspark.sql.functions import col, lower"
   ]
  },
  {
   "cell_type": "code",
   "execution_count": 35,
   "id": "cd441b06",
   "metadata": {},
   "outputs": [],
   "source": [
    "spark = SparkSession \\\n",
    "    .builder \\\n",
    "    .appName(\"Databases II\") \\\n",
    "    .getOrCreate()"
   ]
  },
  {
   "cell_type": "code",
   "execution_count": 36,
   "id": "9bdd6337",
   "metadata": {},
   "outputs": [],
   "source": [
    "rating = (spark.read\n",
    "      .format(\"csv\")\n",
    "      .option('header', 'true')\n",
    "      .option(\"delimiter\", \",\")\n",
    "      .option(\"inferSchema\", \"true\")\n",
    "      .load(\"rating.csv\")\n",
    "     )"
   ]
  },
  {
   "cell_type": "code",
   "execution_count": 37,
   "id": "348af03c",
   "metadata": {},
   "outputs": [],
   "source": [
    "tag = (spark.read\n",
    "      .format(\"csv\")\n",
    "      .option('header', 'true')\n",
    "      .option(\"delimiter\", \",\")\n",
    "      .option(\"inferSchema\", \"true\")\n",
    "      .load(\"tag.csv\")\n",
    "     )"
   ]
  },
  {
   "cell_type": "code",
   "execution_count": 38,
   "id": "344fc722",
   "metadata": {},
   "outputs": [],
   "source": [
    "# change the strings of column 'tag' to lowercase\n",
    "tag = tag.select((col('userId')),\n",
    "                  col('movieId'),\n",
    "                  lower(col('tag')).alias('lower_tag'),\n",
    "                  col('timestamp'))"
   ]
  },
  {
   "cell_type": "code",
   "execution_count": 39,
   "id": "75932257",
   "metadata": {},
   "outputs": [],
   "source": [
    "# execute inner join between 'rating' and 'tag' dataframes\n",
    "joined = rating.join(tag, ['userId', 'movieId'], 'inner')"
   ]
  },
  {
   "cell_type": "code",
   "execution_count": 40,
   "id": "392f6b6e",
   "metadata": {},
   "outputs": [],
   "source": [
    "# create new dataframe 'bollywood_movies' with the columns\n",
    "# 'userId', 'rating' and 'lower_tag' from dataframe joined\n",
    "# and only the rows, which contain the word 'bollywood' in the lower_tag column\n",
    "bollywood_movies = joined.filter(joined['lower_tag'].contains('bollywood')).drop_duplicates(subset=['userId']).select(joined['userId'], joined['rating'], joined['lower_tag'])"
   ]
  },
  {
   "cell_type": "code",
   "execution_count": 41,
   "id": "1e7c8427",
   "metadata": {},
   "outputs": [],
   "source": [
    "# register the 'bollywood_movies' dataframe as an SQL temporary view\n",
    "bollywood_movies.createOrReplaceTempView(\"bollywood_movies\")"
   ]
  },
  {
   "cell_type": "code",
   "execution_count": 42,
   "id": "d22e31e4",
   "metadata": {},
   "outputs": [
    {
     "name": "stdout",
     "output_type": "stream",
     "text": [
      "+------+------+-------------------+\n",
      "|userId|rating|          lower_tag|\n",
      "+------+------+-------------------+\n",
      "| 10573|   4.0|          bollywood|\n",
      "| 19837|   5.0|          bollywood|\n",
      "| 23333|   4.0|          bollywood|\n",
      "| 25004|   5.0|          bollywood|\n",
      "| 31338|   4.5|          bollywood|\n",
      "| 33323|   3.5|          bollywood|\n",
      "| 35170|   4.0|          bollywood|\n",
      "| 40514|   5.0|          bollywood|\n",
      "| 41165|   4.5|          bollywood|\n",
      "| 48816|   4.5|bollywood influence|\n",
      "| 51539|   4.0|          bollywood|\n",
      "| 54900|   3.5|          bollywood|\n",
      "| 63618|   3.5|          bollywood|\n",
      "| 65908|   4.5|          bollywood|\n",
      "| 70279|   4.5|          bollywood|\n",
      "| 77137|   5.0|          bollywood|\n",
      "| 86883|   4.0|          bollywood|\n",
      "|106755|   4.0|bollywood influence|\n",
      "|130827|   3.5|bollywood influence|\n",
      "|131829|   4.0|          bollywood|\n",
      "+------+------+-------------------+\n",
      "only showing top 20 rows\n",
      "\n"
     ]
    }
   ],
   "source": [
    "# execute the SQL query\n",
    "spark.sql(\"SELECT * FROM bollywood_movies WHERE rating > 3.0 AND lower_tag NOT LIKE '%not%' ORDER BY userId ASC\").show()"
   ]
  },
  {
   "cell_type": "code",
   "execution_count": 43,
   "id": "d2b316eb",
   "metadata": {},
   "outputs": [],
   "source": [
    "spark.stop()"
   ]
  },
  {
   "cell_type": "code",
   "execution_count": null,
   "id": "3e6cca80",
   "metadata": {},
   "outputs": [],
   "source": []
  }
 ],
 "metadata": {
  "kernelspec": {
   "display_name": "Python 3",
   "language": "python",
   "name": "python3"
  },
  "language_info": {
   "codemirror_mode": {
    "name": "ipython",
    "version": 3
   },
   "file_extension": ".py",
   "mimetype": "text/x-python",
   "name": "python",
   "nbconvert_exporter": "python",
   "pygments_lexer": "ipython3",
   "version": "3.8.5"
  }
 },
 "nbformat": 4,
 "nbformat_minor": 5
}
