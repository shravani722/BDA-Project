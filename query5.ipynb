{
 "cells": [
  {
   "cell_type": "code",
   "execution_count": 1,
   "id": "f3ae2f3d",
   "metadata": {},
   "outputs": [],
   "source": [
    "from pyspark.sql import SparkSession\n",
    "from pyspark.sql.functions import collect_list"
   ]
  },
  {
   "cell_type": "code",
   "execution_count": 2,
   "id": "38b85ae0",
   "metadata": {},
   "outputs": [],
   "source": [
    "spark = SparkSession \\\n",
    "    .builder \\\n",
    "    .appName(\"Databases II\") \\\n",
    "    .getOrCreate()"
   ]
  },
  {
   "cell_type": "code",
   "execution_count": 3,
   "id": "6d380fa4",
   "metadata": {},
   "outputs": [],
   "source": [
    "dm = spark.read.csv('movie.csv',inferSchema= True,header = True)"
   ]
  },
  {
   "cell_type": "code",
   "execution_count": 4,
   "id": "904e24af",
   "metadata": {},
   "outputs": [],
   "source": [
    "dt = spark.read.csv('tag.csv',inferSchema= True,header = True)"
   ]
  },
  {
   "cell_type": "code",
   "execution_count": 5,
   "id": "a2976cdc",
   "metadata": {},
   "outputs": [],
   "source": [
    "# execute inner join between 'dm' and 'dt' dataframes\n",
    "mxt = dm.join(dt, dm[\"movieId\"]==dt[\"movieId\"], \"inner\")\\\n",
    "        .select( dt[\"userId\"],\n",
    "                 dt[\"tag\"],\n",
    "                 dm[\"title\"])"
   ]
  },
  {
   "cell_type": "code",
   "execution_count": 6,
   "id": "17837fd3",
   "metadata": {
    "scrolled": true
   },
   "outputs": [],
   "source": [
    "# keep only the rows which contain the year 2015\n",
    "fift = mxt.filter(dt.timestamp.contains('2015-'))"
   ]
  },
  {
   "cell_type": "code",
   "execution_count": 7,
   "id": "7f740cfc",
   "metadata": {},
   "outputs": [
    {
     "name": "stdout",
     "output_type": "stream",
     "text": [
      "+----------------------------------------+--------------------------------------------------------------------------------------------------------------------------------------------------------------------------------------------------------------------------------------------------------------------------------------------------------------------------------------------------------------------------------------------------------+\n",
      "|title                                   |tag                                                                                                                                                                                                                                                                                                                                                                                                     |\n",
      "+----------------------------------------+--------------------------------------------------------------------------------------------------------------------------------------------------------------------------------------------------------------------------------------------------------------------------------------------------------------------------------------------------------------------------------------------------------+\n",
      "|\"\"Great Performances\"\" Cats (1998)      |[BD-R]                                                                                                                                                                                                                                                                                                                                                                                                  |\n",
      "|'burbs, The (1989)                      |[1980's, black comedy, dark comedy, Joe Dante, quirky]                                                                                                                                                                                                                                                                                                                                                  |\n",
      "|(500) Days of Summer (2009)             |[annoying, artistic, bad dialogue, boring, depressing, Joseph Gordon-Levitt, overrated, slow, stupid, Zooey Deschanel, intelligent, nonlinear, artistic, bittersweet, Funny, humor, humorous, intelligent, Joseph Gordon-Levitt, music, nonlinear, quirky, relationships, romance, Zooey Deschanel, bittersweet, quirky, romance, Joseph Gordon-Levitt, artistic, no happy ending, nonlinear, overrated]|\n",
      "|...tick... tick... tick... (1970)       |[BD-R]                                                                                                                                                                                                                                                                                                                                                                                                  |\n",
      "|1 (2014)                                |[Sukumar]                                                                                                                                                                                                                                                                                                                                                                                               |\n",
      "|10 Things I Hate About You (1999)       |[chick flick, Heath Ledger, high school, Julia Stiles, teen, chick flick, clever, clever writing, Cliché, comedy, coming of age, Heath Ledger, high school, sunny, teenager]                                                                                                                                                                                                                            |\n",
      "|10,000 BC (2008)                        |[historically inaccurate]                                                                                                                                                                                                                                                                                                                                                                               |\n",
      "|101 Reykjavik (101 Reykjavík) (2000)    |[Iceland]                                                                                                                                                                                                                                                                                                                                                                                               |\n",
      "|10th Kingdom, The (2000)                |[SERIE DE TV, fantasy, magic, romance]                                                                                                                                                                                                                                                                                                                                                                  |\n",
      "|11 x 14 (1977)                          |[James Benning]                                                                                                                                                                                                                                                                                                                                                                                         |\n",
      "|11-11-11 (11-11-11: The Prophecy) (2011)|[PG-13:some disturbing images and thematic material]                                                                                                                                                                                                                                                                                                                                                    |\n",
      "|11:14 (2003)                            |[multiple storylines, black comedy, dark comedy, multiple storylines]                                                                                                                                                                                                                                                                                                                                   |\n",
      "|12 Angry Men (1957)                     |[group psychology, Motivational, cinematography, good dialogue, group psychology, crime, confrontational, good dialogue, gritty, group psychology, social commentary, thought-provoking, classic, courtroom drama, crime, DIVX, good dialogue, Henry Fonda, imdb top 250, low budget, racism, Sidney Lumet, social commentary, thought-provoking, black and white, courtroom drama, dialog]             |\n",
      "|12 Angry Men (1997)                     |[Bob*ola]                                                                                                                                                                                                                                                                                                                                                                                               |\n",
      "|12 Years a Slave (2013)                 |[Academy award winning, based on a true story, Graphic Violence, slavery, based on a book, cinematography, Graphic Violence, slavery, 2014]                                                                                                                                                                                                                                                             |\n",
      "|12:01 (1993)                            |[time loop]                                                                                                                                                                                                                                                                                                                                                                                             |\n",
      "|12:01 PM (1990)                         |[Jonathan Heap, easily confused with other movie(s) (title), time loop, time travel]                                                                                                                                                                                                                                                                                                                    |\n",
      "|13 Going on 30 (2004)                   |[Aging, Friends As Lovers, Jennifer Garner, Mark Ruffalo]                                                                                                                                                                                                                                                                                                                                               |\n",
      "|13 Lakes (2004)                         |[James Benning]                                                                                                                                                                                                                                                                                                                                                                                         |\n",
      "|13th Warrior, The (1999)                |[fantasy]                                                                                                                                                                                                                                                                                                                                                                                               |\n",
      "+----------------------------------------+--------------------------------------------------------------------------------------------------------------------------------------------------------------------------------------------------------------------------------------------------------------------------------------------------------------------------------------------------------------------------------------------------------+\n",
      "only showing top 20 rows\n",
      "\n"
     ]
    }
   ],
   "source": [
    "# use the function collect_list() to return a list of tags for each movie\n",
    "# and show the results alphabetically\n",
    "query5 = fift.groupBy(\"title\").agg(collect_list(\"tag\").alias(\"tag\")).orderBy(\"title\").show(truncate=0)"
   ]
  },
  {
   "cell_type": "code",
   "execution_count": 8,
   "id": "0c5a6a13",
   "metadata": {},
   "outputs": [],
   "source": [
    "spark.stop()"
   ]
  },
  {
   "cell_type": "code",
   "execution_count": null,
   "id": "36ca4c40",
   "metadata": {},
   "outputs": [],
   "source": []
  }
 ],
 "metadata": {
  "kernelspec": {
   "display_name": "Python 3",
   "language": "python",
   "name": "python3"
  },
  "language_info": {
   "codemirror_mode": {
    "name": "ipython",
    "version": 3
   },
   "file_extension": ".py",
   "mimetype": "text/x-python",
   "name": "python",
   "nbconvert_exporter": "python",
   "pygments_lexer": "ipython3",
   "version": "3.8.5"
  }
 },
 "nbformat": 4,
 "nbformat_minor": 5
}
