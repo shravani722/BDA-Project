{
 "cells": [
  {
   "cell_type": "code",
   "execution_count": 1,
   "id": "d2dee9e5",
   "metadata": {},
   "outputs": [],
   "source": [
    "from pyspark.sql import SparkSession\n",
    "from pyspark.sql.functions import col, lower"
   ]
  },
  {
   "cell_type": "code",
   "execution_count": 2,
   "id": "184deae8",
   "metadata": {},
   "outputs": [],
   "source": [
    "spark = SparkSession \\\n",
    "    .builder \\\n",
    "    .appName(\"Databases II\") \\\n",
    "    .getOrCreate()"
   ]
  },
  {
   "cell_type": "code",
   "execution_count": 3,
   "id": "81a4b318",
   "metadata": {},
   "outputs": [],
   "source": [
    "movie = (spark.read\n",
    "      .format(\"csv\")\n",
    "      .option('header', 'true')\n",
    "      .option(\"delimiter\", \",\")\n",
    "      .option(\"inferSchema\", \"true\")\n",
    "      .load(\"movie.csv\")\n",
    "     )"
   ]
  },
  {
   "cell_type": "code",
   "execution_count": 4,
   "id": "26dae0d0",
   "metadata": {},
   "outputs": [],
   "source": [
    "tag = (spark.read\n",
    "      .format(\"csv\")\n",
    "      .option('header', 'true')\n",
    "      .option(\"delimiter\", \",\")\n",
    "      .option(\"inferSchema\", \"true\")\n",
    "      .load(\"tag.csv\")\n",
    "     )"
   ]
  },
  {
   "cell_type": "code",
   "execution_count": 5,
   "id": "5fbb2682",
   "metadata": {},
   "outputs": [],
   "source": [
    "# change the strings of column 'tag' to lowercase\n",
    "tag = tag.select((col('userId')),\n",
    "                  col('movieId'),\n",
    "                  lower(col('tag')).alias('lower_tag'),\n",
    "                  col('timestamp'))\n"
   ]
  },
  {
   "cell_type": "code",
   "execution_count": 6,
   "id": "022789bd",
   "metadata": {},
   "outputs": [],
   "source": [
    "# execute inner join between 'movie' and 'tag' dataframes\n",
    "joined = movie.join(tag, [\"movieId\"], 'inner')"
   ]
  },
  {
   "cell_type": "code",
   "execution_count": 7,
   "id": "3447b0d1",
   "metadata": {},
   "outputs": [],
   "source": [
    "# create new dataframe 'boring_movies' with the columns\n",
    "# 'title' and 'lower_tag' from dataframe joined\n",
    "# and only the rows, which contain the word 'boring' in the lower_tag column\n",
    "boring_movies = joined.filter(joined['lower_tag'].contains('boring')).drop_duplicates(subset=['movieId']).select(joined['title'], joined['lower_tag'])"
   ]
  },
  {
   "cell_type": "code",
   "execution_count": 8,
   "id": "1997d9a5",
   "metadata": {},
   "outputs": [],
   "source": [
    "# register the 'boring_movies' dataframe as an SQL temporary view\n",
    "boring_movies.createOrReplaceTempView(\"boring_movies\")"
   ]
  },
  {
   "cell_type": "code",
   "execution_count": 9,
   "id": "dec4b00f",
   "metadata": {},
   "outputs": [
    {
     "name": "stdout",
     "output_type": "stream",
     "text": [
      "+-------------------------------------+---------+\n",
      "|title                                |lower_tag|\n",
      "+-------------------------------------+---------+\n",
      "|(500) Days of Summer (2009)          |boring   |\n",
      "|101 Reykjavik (101 Reykjavík) (2000) |boring   |\n",
      "|12 Years a Slave (2013)              |boring   |\n",
      "|1408 (2007)                          |boring   |\n",
      "|1492: Conquest of Paradise (1992)    |boring   |\n",
      "|2001: A Space Odyssey (1968)         |boring   |\n",
      "|2010: The Year We Make Contact (1984)|boring   |\n",
      "|2046 (2004)                          |boring   |\n",
      "|21 Grams (2003)                      |boring   |\n",
      "|24 Hour Party People (2002)          |boring   |\n",
      "|3-Iron (Bin-jip) (2004)              |boring   |\n",
      "|6 Bullets (2012)                     |boring   |\n",
      "|633 Squadron (1964)                  |boring   |\n",
      "|7 Plus Seven (1970)                  |boring   |\n",
      "|8 Women (2002)                       |boring   |\n",
      "|A.I. Artificial Intelligence (2001)  |boring   |\n",
      "|According to Greta (2009)            |boring   |\n",
      "|Adaptation (2002)                    |boring   |\n",
      "|Adjustment Bureau, The (2011)        |boring   |\n",
      "|Admission (2013)                     |boring   |\n",
      "+-------------------------------------+---------+\n",
      "only showing top 20 rows\n",
      "\n"
     ]
    }
   ],
   "source": [
    "# execute the SQL query\n",
    "# we don't count phrases which contain the word 'boring',\n",
    "# so we exclude them from the results of the query\n",
    "spark.sql(\"SELECT * FROM boring_movies WHERE lower_tag NOT LIKE '% %' ORDER BY title ASC\").show(truncate=0)"
   ]
  },
  {
   "cell_type": "code",
   "execution_count": 10,
   "id": "ebdd1461",
   "metadata": {},
   "outputs": [],
   "source": [
    "spark.stop()"
   ]
  },
  {
   "cell_type": "code",
   "execution_count": null,
   "id": "da98a18a",
   "metadata": {},
   "outputs": [],
   "source": []
  }
 ],
 "metadata": {
  "kernelspec": {
   "display_name": "Python 3",
   "language": "python",
   "name": "python3"
  },
  "language_info": {
   "codemirror_mode": {
    "name": "ipython",
    "version": 3
   },
   "file_extension": ".py",
   "mimetype": "text/x-python",
   "name": "python",
   "nbconvert_exporter": "python",
   "pygments_lexer": "ipython3",
   "version": "3.8.5"
  }
 },
 "nbformat": 4,
 "nbformat_minor": 5
}
