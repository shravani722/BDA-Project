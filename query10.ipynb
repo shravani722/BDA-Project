{
 "cells": [
  {
   "cell_type": "code",
   "execution_count": 1,
   "id": "b8ea8254",
   "metadata": {},
   "outputs": [],
   "source": [
    "from pyspark.sql import SparkSession\n",
    "from pyspark.sql.functions import col, split, explode, count, lower"
   ]
  },
  {
   "cell_type": "code",
   "execution_count": 2,
   "id": "99c34888",
   "metadata": {},
   "outputs": [],
   "source": [
    "spark = SparkSession \\\n",
    "    .builder \\\n",
    "    .appName(\"Databases II\") \\\n",
    "    .getOrCreate()"
   ]
  },
  {
   "cell_type": "code",
   "execution_count": 3,
   "id": "95d6a6af",
   "metadata": {},
   "outputs": [],
   "source": [
    "movie = (spark.read\n",
    "      .format(\"csv\")\n",
    "      .option('header', 'true')\n",
    "      .option(\"delimiter\", \",\")\n",
    "      .option(\"inferSchema\", \"true\")\n",
    "      .load(\"movie.csv\")\n",
    "     )"
   ]
  },
  {
   "cell_type": "code",
   "execution_count": 4,
   "id": "112b661e",
   "metadata": {},
   "outputs": [],
   "source": [
    "rating = (spark.read\n",
    "      .format(\"csv\")\n",
    "      .option('header', 'true')\n",
    "      .option(\"delimiter\", \",\")\n",
    "      .option(\"inferSchema\", \"true\")\n",
    "      .load(\"rating.csv\")\n",
    "     )"
   ]
  },
  {
   "cell_type": "code",
   "execution_count": 5,
   "id": "15dbbcfc",
   "metadata": {},
   "outputs": [],
   "source": [
    "tag = (spark.read\n",
    "      .format(\"csv\")\n",
    "      .option('header', 'true')\n",
    "      .option(\"delimiter\", \",\")\n",
    "      .option(\"inferSchema\", \"true\")\n",
    "      .load(\"tag.csv\")\n",
    "     )"
   ]
  },
  {
   "cell_type": "code",
   "execution_count": 6,
   "id": "8e8eb2e7",
   "metadata": {},
   "outputs": [],
   "source": [
    "# change the strings of column 'tag' to lowercase\n",
    "tag = tag.select((col('userId')),\n",
    "                  col('movieId'),\n",
    "                  lower(col('tag')).alias('lower_tag'),\n",
    "                  col('timestamp'))"
   ]
  },
  {
   "cell_type": "code",
   "execution_count": 7,
   "id": "6f6155de",
   "metadata": {},
   "outputs": [],
   "source": [
    "# execute inner join between 'rating' and 'tag' dataframes\n",
    "joined = rating.join(tag, (rating.userId == tag.userId) & (rating.movieId == tag.movieId), 'inner')"
   ]
  },
  {
   "cell_type": "code",
   "execution_count": 8,
   "id": "8aa126f4",
   "metadata": {},
   "outputs": [],
   "source": [
    "# from dataframe 'joined' select only the rows whose 'lower_tag' column contains the word funny\n",
    "# and whose 'rating' column is > 3.5\n",
    "funny_movies = joined.filter((joined['lower_tag'].contains('funny')) & (~joined[\"lower_tag\"].contains('no')) & (joined[\"rating\"] > 3.5))"
   ]
  },
  {
   "cell_type": "code",
   "execution_count": 9,
   "id": "6ed1946c",
   "metadata": {},
   "outputs": [],
   "source": [
    "# because some movies have more than one genres listed,\n",
    "# we split the column 'genres' with the '|' operator so we can process on each genre separately\n",
    "# and then use explode so that every distinct genre will be in their own row\n",
    "movie = movie.withColumn(\"genres\", explode(split(\"genres\", \"[|]\")))"
   ]
  },
  {
   "cell_type": "code",
   "execution_count": 10,
   "id": "cfcb0dd8",
   "metadata": {},
   "outputs": [],
   "source": [
    "# execute inner join between 'movie' and 'funny_movies' dataframes\n",
    "joined = movie.join(funny_movies, [\"movieId\"], 'inner')"
   ]
  },
  {
   "cell_type": "code",
   "execution_count": 11,
   "id": "b3652d76",
   "metadata": {},
   "outputs": [],
   "source": [
    "# create new dataframe 'genre' with the columns of dataframe 'joined'\n",
    "# grouped by the column 'genres'\n",
    "# and count the number of distinct movies for each genre\n",
    "genre = joined.select('*').groupby(joined[\"genres\"]).agg(count('title').alias('movies_count'))"
   ]
  },
  {
   "cell_type": "code",
   "execution_count": 12,
   "id": "d7a65722",
   "metadata": {},
   "outputs": [
    {
     "name": "stdout",
     "output_type": "stream",
     "text": [
      "+-----------+------------+\n",
      "|     genres|movies_count|\n",
      "+-----------+------------+\n",
      "|     Action|         431|\n",
      "|  Adventure|         465|\n",
      "|  Animation|         268|\n",
      "|   Children|         273|\n",
      "|     Comedy|        1618|\n",
      "|      Crime|         276|\n",
      "|Documentary|          27|\n",
      "|      Drama|         544|\n",
      "|    Fantasy|         306|\n",
      "|  Film-Noir|           3|\n",
      "|     Horror|         140|\n",
      "|       IMAX|          74|\n",
      "|    Musical|          92|\n",
      "|    Mystery|          93|\n",
      "|    Romance|         490|\n",
      "|     Sci-Fi|         197|\n",
      "|   Thriller|         236|\n",
      "|        War|          37|\n",
      "|    Western|          44|\n",
      "+-----------+------------+\n",
      "\n"
     ]
    }
   ],
   "source": [
    "# show the results ordered by alphabetical order of column 'genres'\n",
    "query10 = genre.orderBy(genre[\"genres\"].asc()).show()"
   ]
  },
  {
   "cell_type": "code",
   "execution_count": 13,
   "id": "075d8a65",
   "metadata": {},
   "outputs": [],
   "source": [
    "spark.stop()"
   ]
  },
  {
   "cell_type": "code",
   "execution_count": null,
   "id": "1f44b250",
   "metadata": {},
   "outputs": [],
   "source": []
  }
 ],
 "metadata": {
  "kernelspec": {
   "display_name": "Python 3",
   "language": "python",
   "name": "python3"
  },
  "language_info": {
   "codemirror_mode": {
    "name": "ipython",
    "version": 3
   },
   "file_extension": ".py",
   "mimetype": "text/x-python",
   "name": "python",
   "nbconvert_exporter": "python",
   "pygments_lexer": "ipython3",
   "version": "3.8.5"
  }
 },
 "nbformat": 4,
 "nbformat_minor": 5
}
