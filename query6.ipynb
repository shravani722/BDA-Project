{
 "cells": [
  {
   "cell_type": "code",
   "execution_count": 2,
   "id": "18e6813b",
   "metadata": {},
   "outputs": [],
   "source": [
    "from pyspark.sql import SparkSession"
   ]
  },
  {
   "cell_type": "code",
   "execution_count": 3,
   "id": "ead03078",
   "metadata": {},
   "outputs": [],
   "source": [
    "spark = SparkSession \\\n",
    "    .builder \\\n",
    "    .appName(\"Databases II\") \\\n",
    "    .getOrCreate()"
   ]
  },
  {
   "cell_type": "code",
   "execution_count": 4,
   "id": "6c62e296",
   "metadata": {},
   "outputs": [],
   "source": [
    "movie = (spark.read\n",
    "      .format(\"csv\")\n",
    "      .option('header', 'true')\n",
    "      .option(\"delimiter\", \",\")\n",
    "      .option(\"inferSchema\", \"true\")\n",
    "      .load(\"movie.csv\")\n",
    "     )"
   ]
  },
  {
   "cell_type": "code",
   "execution_count": 5,
   "id": "a9f4734a",
   "metadata": {},
   "outputs": [],
   "source": [
    "rating = (spark.read\n",
    "      .format(\"csv\")\n",
    "      .option('header', 'true')\n",
    "      .option(\"delimiter\", \",\")\n",
    "      .option(\"inferSchema\", \"true\")\n",
    "      .load(\"rating.csv\")\n",
    "     )"
   ]
  },
  {
   "cell_type": "code",
   "execution_count": 6,
   "id": "ebb47849",
   "metadata": {},
   "outputs": [],
   "source": [
    "# register 'movie' and 'rating' dataframes as SQL temporary views\n",
    "movie.createOrReplaceTempView(\"movie\")\n",
    "rating.createOrReplaceTempView(\"rating\")"
   ]
  },
  {
   "cell_type": "code",
   "execution_count": 7,
   "id": "4f879def",
   "metadata": {},
   "outputs": [
    {
     "name": "stdout",
     "output_type": "stream",
     "text": [
      "+-----------------------------------------------------+-------------+\n",
      "|title                                                |total_ratings|\n",
      "+-----------------------------------------------------+-------------+\n",
      "|Pulp Fiction (1994)                                  |67310        |\n",
      "|Forrest Gump (1994)                                  |66172        |\n",
      "|Shawshank Redemption, The (1994)                     |63366        |\n",
      "|Silence of the Lambs, The (1991)                     |63299        |\n",
      "|Jurassic Park (1993)                                 |59715        |\n",
      "|Star Wars: Episode IV - A New Hope (1977)            |54502        |\n",
      "|Braveheart (1995)                                    |53769        |\n",
      "|Terminator 2: Judgment Day (1991)                    |52244        |\n",
      "|Matrix, The (1999)                                   |51334        |\n",
      "|Schindler's List (1993)                              |50054        |\n",
      "|Toy Story (1995)                                     |49695        |\n",
      "|Fugitive, The (1993)                                 |49581        |\n",
      "|Apollo 13 (1995)                                     |47777        |\n",
      "|Independence Day (a.k.a. ID4) (1996)                 |47048        |\n",
      "|Usual Suspects, The (1995)                           |47006        |\n",
      "|Star Wars: Episode VI - Return of the Jedi (1983)    |46839        |\n",
      "|Batman (1989)                                        |46054        |\n",
      "|Star Wars: Episode V - The Empire Strikes Back (1980)|45313        |\n",
      "|American Beauty (1999)                               |44987        |\n",
      "|Twelve Monkeys (a.k.a. 12 Monkeys) (1995)            |44980        |\n",
      "+-----------------------------------------------------+-------------+\n",
      "only showing top 20 rows\n",
      "\n"
     ]
    }
   ],
   "source": [
    "# execute the SQL query\n",
    "spark.sql(\"SELECT title, count(rating) AS total_ratings FROM movie INNER JOIN rating ON movie.movieId = rating.movieId GROUP BY title ORDER BY total_ratings DESC\").show(truncate=0)"
   ]
  },
  {
   "cell_type": "code",
   "execution_count": 9,
   "id": "2fcf00c3",
   "metadata": {},
   "outputs": [],
   "source": [
    "spark.stop()"
   ]
  },
  {
   "cell_type": "code",
   "execution_count": null,
   "id": "1abe81bc",
   "metadata": {},
   "outputs": [],
   "source": []
  }
 ],
 "metadata": {
  "kernelspec": {
   "display_name": "Python 3",
   "language": "python",
   "name": "python3"
  },
  "language_info": {
   "codemirror_mode": {
    "name": "ipython",
    "version": 3
   },
   "file_extension": ".py",
   "mimetype": "text/x-python",
   "name": "python",
   "nbconvert_exporter": "python",
   "pygments_lexer": "ipython3",
   "version": "3.8.5"
  }
 },
 "nbformat": 4,
 "nbformat_minor": 5
}
