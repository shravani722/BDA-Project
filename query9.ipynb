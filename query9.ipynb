{
 "cells": [
  {
   "cell_type": "code",
   "execution_count": 1,
   "id": "072d386c",
   "metadata": {},
   "outputs": [],
   "source": [
    "from pyspark.sql import SparkSession\n",
    "from pyspark.sql.functions import col, year, hour, dayofyear, count, sum"
   ]
  },
  {
   "cell_type": "code",
   "execution_count": 2,
   "id": "7d2895a0",
   "metadata": {},
   "outputs": [],
   "source": [
    "spark = SparkSession \\\n",
    "    .builder \\\n",
    "    .appName(\"Databases II\") \\\n",
    "    .getOrCreate()"
   ]
  },
  {
   "cell_type": "code",
   "execution_count": 3,
   "id": "3e198875",
   "metadata": {},
   "outputs": [],
   "source": [
    "rating = (spark.read\n",
    "      .format(\"csv\")\n",
    "      .option('header', 'true')\n",
    "      .option(\"delimiter\", \",\")\n",
    "      .option(\"inferSchema\", \"true\")\n",
    "      .load(\"rating.csv\")\n",
    "     )"
   ]
  },
  {
   "cell_type": "code",
   "execution_count": 4,
   "id": "12dc5850",
   "metadata": {},
   "outputs": [],
   "source": [
    "# convert the string column 'timestamp' to timestamp data type\n",
    "rating = rating.select(col('userId'),\n",
    "                      col('movieId'),\n",
    "                      col('rating'),\n",
    "                      col('timestamp').cast('timestamp').alias('timestamp'))"
   ]
  },
  {
   "cell_type": "code",
   "execution_count": 5,
   "id": "c2fdc771",
   "metadata": {},
   "outputs": [],
   "source": [
    "# add to 'rating' dataframe 3 extra columns: One with the year values from column 'timestamp',\n",
    "# one with the dayofyear values from column 'timestamp'\n",
    "# and one with the hour values again from column 'timestamp'\n",
    "rating = rating.select(col('userId'),\n",
    "                      col('movieId'),\n",
    "                      col('rating'),\n",
    "                      col('timestamp'),\n",
    "                      year(col('timestamp')).alias('year'),\n",
    "                      dayofyear(col('timestamp')).alias('day_of_year'),\n",
    "                      hour(col('timestamp')).alias('hour'))"
   ]
  },
  {
   "cell_type": "code",
   "execution_count": 6,
   "id": "4b954146",
   "metadata": {},
   "outputs": [],
   "source": [
    "# create new dataframe 'same time_user' with the columns of dataframe 'rating'\n",
    "# grouped by the columns 'movieId', 'year', 'day_of_year' and 'hour',\n",
    "# and count the number of users who watched the same movie at the same time\n",
    "same_time = rating.select('*').groupby(rating[\"movieId\"], rating[\"year\"], rating[\"day_of_year\"], rating[\"hour\"]).agg(count('userId').alias('viewers'))"
   ]
  },
  {
   "cell_type": "code",
   "execution_count": 7,
   "id": "14fbc9c3",
   "metadata": {},
   "outputs": [
    {
     "name": "stdout",
     "output_type": "stream",
     "text": [
      "+-------------+\n",
      "|total_viewers|\n",
      "+-------------+\n",
      "|      4281178|\n",
      "+-------------+\n",
      "\n"
     ]
    }
   ],
   "source": [
    "# from dataframe 'same_time' select only the rows which have more than one viewer\n",
    "# and compute the sum of viewers of these rows\n",
    "query9 = same_time.filter(same_time[\"viewers\"] != 1).select('*').agg(sum('viewers').alias('total_viewers')).show()"
   ]
  },
  {
   "cell_type": "code",
   "execution_count": 8,
   "id": "a66fe05f",
   "metadata": {},
   "outputs": [],
   "source": [
    "spark.stop()"
   ]
  },
  {
   "cell_type": "code",
   "execution_count": null,
   "id": "67ac17c1",
   "metadata": {},
   "outputs": [],
   "source": []
  }
 ],
 "metadata": {
  "kernelspec": {
   "display_name": "Python 3",
   "language": "python",
   "name": "python3"
  },
  "language_info": {
   "codemirror_mode": {
    "name": "ipython",
    "version": 3
   },
   "file_extension": ".py",
   "mimetype": "text/x-python",
   "name": "python",
   "nbconvert_exporter": "python",
   "pygments_lexer": "ipython3",
   "version": "3.8.5"
  }
 },
 "nbformat": 4,
 "nbformat_minor": 5
}
